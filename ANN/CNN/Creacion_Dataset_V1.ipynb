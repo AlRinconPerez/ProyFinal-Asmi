{
 "cells": [
  {
   "cell_type": "code",
   "execution_count": 1,
   "metadata": {},
   "outputs": [],
   "source": [
    "# Importo librerias\n",
    "import os\n",
    "import numpy as np\n",
    "import matplotlib.pyplot as plt\n",
    "import cv2"
   ]
  },
  {
   "cell_type": "code",
   "execution_count": 2,
   "metadata": {},
   "outputs": [],
   "source": [
    "# Ruta de la base de datos\n",
    "root_dir = \"C:/Users/BiDAlab/Proy_ASMI/e-BioDigit_DB/e-BioDigit_DB/\""
   ]
  },
  {
   "cell_type": "code",
   "execution_count": 3,
   "metadata": {},
   "outputs": [],
   "source": [
    "# Selecciono un archivo de prueba\n",
    "\n",
    "file_path = os.path.join(root_dir, \"u101_digit_0_002.txt\")"
   ]
  },
  {
   "cell_type": "code",
   "execution_count": 4,
   "metadata": {},
   "outputs": [
    {
     "name": "stdout",
     "output_type": "stream",
     "text": [
      "✅ Todas las imágenes han sido generadas correctamente.\n"
     ]
    }
   ],
   "source": [
    "# Directorio de salida para imágenes\n",
    "output_folder = \"Converted_images\"\n",
    "os.makedirs(output_folder, exist_ok=True)\n",
    "\n",
    "# Función para convertir coordenadas a una imagen 64x64\n",
    "def coordenadas_a_imagen(coords, img_size=64, line_thickness=2, discontinuity_threshold=10):\n",
    "    \"\"\"\n",
    "    Convierte coordenadas X, Y en una imagen binaria, conectando puntos consecutivos con líneas.\n",
    "    \n",
    "    Args:\n",
    "        coords: Array de coordenadas (x, y).\n",
    "        img_size: Tamaño de la imagen (28x28 por defecto).\n",
    "        line_thickness: Grosor de las líneas.\n",
    "        discontinuity_threshold: Umbral para detectar discontinuidades (levantar el lápiz).\n",
    "    \n",
    "    Returns:\n",
    "        Imagen binaria (numpy array).\n",
    "    \"\"\"\n",
    "    # Crear una imagen en blanco (fondo blanco)\n",
    "    img = np.ones((img_size, img_size), dtype=np.uint8) * 255  # Blanco\n",
    "\n",
    "    # Si no hay coordenadas, devolver imagen vacía\n",
    "    if len(coords) == 0:\n",
    "        return img\n",
    "\n",
    "    # Normalizar coordenadas a [0, img_size-1]\n",
    "    x_min, x_max = np.min(coords[:, 0]), np.max(coords[:, 0])\n",
    "    y_min, y_max = np.min(coords[:, 1]), np.max(coords[:, 1])\n",
    "\n",
    "    # Evitar división por cero\n",
    "    if x_max == x_min:\n",
    "        x_max = x_min + 1\n",
    "    if y_max == y_min:\n",
    "        y_max = y_min + 1\n",
    "\n",
    "    # Escalar las coordenadas\n",
    "    coords_scaled = np.zeros_like(coords)\n",
    "    coords_scaled[:, 0] = (coords[:, 0] - x_min) / (x_max - x_min) * (img_size - 1)\n",
    "    coords_scaled[:, 1] = (coords[:, 1] - y_min) / (y_max - y_min) * (img_size - 1)\n",
    "\n",
    "    # Convertir coordenadas a enteros\n",
    "    coords_scaled = coords_scaled.astype(int)\n",
    "\n",
    "    # Dibujar líneas entre puntos consecutivos\n",
    "    for i in range(len(coords_scaled) - 1):\n",
    "        x1, y1 = coords_scaled[i]\n",
    "        x2, y2 = coords_scaled[i + 1]\n",
    "\n",
    "        # Calcular la distancia entre puntos consecutivos\n",
    "        distance = np.sqrt((x2 - x1) ** 2 + (y2 - y1) ** 2)\n",
    "\n",
    "        # Si la distancia es menor que el umbral, dibujar una línea\n",
    "        if distance < discontinuity_threshold:\n",
    "            cv2.line(img, (x1, y1), (x2, y2), color=0, thickness=line_thickness)\n",
    "\n",
    "    return img\n",
    "\n",
    "# Recorrer todos los usuarios (ej. 101, 102, ..., 208)\n",
    "for user in os.listdir(root_dir):\n",
    "    user_path = os.path.join(root_dir, user)\n",
    "    if not os.path.isdir(user_path):  # Saltar si no es un directorio\n",
    "        continue\n",
    "    \n",
    "    # Recorrer las sesiones (session_1 y session_2)\n",
    "    for session in [\"session_1\", \"session_2\"]:\n",
    "        session_path = os.path.join(user_path, session)\n",
    "        if not os.path.exists(session_path):  # Saltar si la sesión no existe\n",
    "            continue\n",
    "\n",
    "        # Procesar todos los archivos .txt dentro de la sesión\n",
    "        for file_name in os.listdir(session_path):\n",
    "            if file_name.endswith(\".txt\"):\n",
    "                file_path = os.path.join(session_path, file_name)\n",
    "                \n",
    "                # Extraer información del nombre del archivo\n",
    "                parts = file_name.split(\"_\")\n",
    "                digit = parts[2]  # Número (0-9)\n",
    "                sample = parts[3].split(\".\")[0]  # Número de muestra\n",
    "                \n",
    "                # Leer archivo y extraer coordenadas\n",
    "                with open(file_path, \"r\") as f:\n",
    "                    lines = f.readlines()\n",
    "                \n",
    "                num_points = int(lines[0].strip())  # Número de puntos\n",
    "                coords = np.array([list(map(float, line.split()[:2])) for line in lines[1:num_points+1]])\n",
    "\n",
    "                # Convertir coordenadas a imagen\n",
    "                img = coordenadas_a_imagen(coords, img_size=28, line_thickness=2, discontinuity_threshold=10)\n",
    "\n",
    "                # Guardar la imagen con el mismo formato de nombres\n",
    "                output_path = os.path.join(output_folder, f\"{digit}\")\n",
    "                os.makedirs(output_path, exist_ok=True)\n",
    "                output_path = os.path.join(output_path, f\"{user}_{session}_{digit}_{sample}.png\")\n",
    "                # Crea la carpeta si no existe\n",
    "                \n",
    "                cv2.imwrite(output_path, img)\n",
    "\n",
    "print(\"✅ Todas las imágenes han sido generadas correctamente.\")"
   ]
  },
  {
   "cell_type": "code",
   "execution_count": 5,
   "metadata": {},
   "outputs": [
    {
     "name": "stdout",
     "output_type": "stream",
     "text": [
      "Converted_images\\9\\208_session_2_9_016.png\n"
     ]
    }
   ],
   "source": [
    "print(output_path)"
   ]
  }
 ],
 "metadata": {
  "kernelspec": {
   "display_name": "ASMI_env",
   "language": "python",
   "name": "python3"
  },
  "language_info": {
   "codemirror_mode": {
    "name": "ipython",
    "version": 3
   },
   "file_extension": ".py",
   "mimetype": "text/x-python",
   "name": "python",
   "nbconvert_exporter": "python",
   "pygments_lexer": "ipython3",
   "version": "3.10.7"
  }
 },
 "nbformat": 4,
 "nbformat_minor": 2
}
